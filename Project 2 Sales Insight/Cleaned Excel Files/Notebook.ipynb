{
 "cells": [
  {
   "cell_type": "code",
   "execution_count": 38,
   "id": "9c3d231c",
   "metadata": {},
   "outputs": [],
   "source": [
    "import pandas as pd\n",
    "import mysql.connector as mysql"
   ]
  },
  {
   "cell_type": "markdown",
   "id": "3038a9d5",
   "metadata": {},
   "source": [
    "# Establishing Connection"
   ]
  },
  {
   "cell_type": "code",
   "execution_count": 7,
   "id": "2bd9c7de",
   "metadata": {},
   "outputs": [],
   "source": [
    "db = mysql.connect(host=\"localhost\",port=\"3306\",user=\"root\",password=\"admin1234#\",database=\"sales\")"
   ]
  },
  {
   "cell_type": "code",
   "execution_count": 13,
   "id": "f348a59f",
   "metadata": {},
   "outputs": [
    {
     "name": "stderr",
     "output_type": "stream",
     "text": [
      "C:\\Users\\DELL PC\\AppData\\Local\\Temp\\ipykernel_10332\\1805277540.py:1: UserWarning: pandas only supports SQLAlchemy connectable (engine/connection) or database string URI or sqlite3 DBAPI2 connection. Other DBAPI2 objects are not tested. Please consider using SQLAlchemy.\n",
      "  customers = pd.read_sql_query(\"select * from customers\",db)\n"
     ]
    }
   ],
   "source": [
    "customers = pd.read_sql_query(\"select * from customers\",db)"
   ]
  },
  {
   "cell_type": "code",
   "execution_count": 14,
   "id": "3747435f",
   "metadata": {},
   "outputs": [
    {
     "data": {
      "text/plain": [
       "(38, 3)"
      ]
     },
     "execution_count": 14,
     "metadata": {},
     "output_type": "execute_result"
    }
   ],
   "source": [
    "customers.shape"
   ]
  },
  {
   "cell_type": "code",
   "execution_count": 16,
   "id": "e121a763",
   "metadata": {},
   "outputs": [
    {
     "name": "stderr",
     "output_type": "stream",
     "text": [
      "C:\\Users\\DELL PC\\AppData\\Local\\Temp\\ipykernel_10332\\3097153016.py:1: UserWarning: pandas only supports SQLAlchemy connectable (engine/connection) or database string URI or sqlite3 DBAPI2 connection. Other DBAPI2 objects are not tested. Please consider using SQLAlchemy.\n",
      "  date = pd.read_sql_query(\"select * from date\",db)\n"
     ]
    }
   ],
   "source": [
    "date = pd.read_sql_query(\"select * from date\",db)"
   ]
  },
  {
   "cell_type": "code",
   "execution_count": 17,
   "id": "b204e02c",
   "metadata": {},
   "outputs": [
    {
     "data": {
      "text/plain": [
       "(1126, 5)"
      ]
     },
     "execution_count": 17,
     "metadata": {},
     "output_type": "execute_result"
    }
   ],
   "source": [
    "date.shape"
   ]
  },
  {
   "cell_type": "code",
   "execution_count": 19,
   "id": "7f1146bb",
   "metadata": {},
   "outputs": [
    {
     "name": "stderr",
     "output_type": "stream",
     "text": [
      "C:\\Users\\DELL PC\\AppData\\Local\\Temp\\ipykernel_10332\\1889616315.py:1: UserWarning: pandas only supports SQLAlchemy connectable (engine/connection) or database string URI or sqlite3 DBAPI2 connection. Other DBAPI2 objects are not tested. Please consider using SQLAlchemy.\n",
      "  markets = pd.read_sql_query(\"select * from markets\",db)\n"
     ]
    }
   ],
   "source": [
    "markets = pd.read_sql_query(\"select * from markets\",db)"
   ]
  },
  {
   "cell_type": "code",
   "execution_count": 20,
   "id": "3b1118f0",
   "metadata": {},
   "outputs": [
    {
     "data": {
      "text/plain": [
       "(17, 3)"
      ]
     },
     "execution_count": 20,
     "metadata": {},
     "output_type": "execute_result"
    }
   ],
   "source": [
    "markets.shape"
   ]
  },
  {
   "cell_type": "code",
   "execution_count": 21,
   "id": "09d32ab2",
   "metadata": {},
   "outputs": [
    {
     "name": "stderr",
     "output_type": "stream",
     "text": [
      "C:\\Users\\DELL PC\\AppData\\Local\\Temp\\ipykernel_10332\\3538033511.py:1: UserWarning: pandas only supports SQLAlchemy connectable (engine/connection) or database string URI or sqlite3 DBAPI2 connection. Other DBAPI2 objects are not tested. Please consider using SQLAlchemy.\n",
      "  products = pd.read_sql_query(\"select * from products\",db)\n"
     ]
    }
   ],
   "source": [
    "products = pd.read_sql_query(\"select * from products\",db)"
   ]
  },
  {
   "cell_type": "code",
   "execution_count": 22,
   "id": "b28c483a",
   "metadata": {},
   "outputs": [
    {
     "data": {
      "text/plain": [
       "(279, 2)"
      ]
     },
     "execution_count": 22,
     "metadata": {},
     "output_type": "execute_result"
    }
   ],
   "source": [
    "products.shape"
   ]
  },
  {
   "cell_type": "code",
   "execution_count": 23,
   "id": "0f481a0a",
   "metadata": {},
   "outputs": [
    {
     "name": "stderr",
     "output_type": "stream",
     "text": [
      "C:\\Users\\DELL PC\\AppData\\Local\\Temp\\ipykernel_10332\\1581133205.py:1: UserWarning: pandas only supports SQLAlchemy connectable (engine/connection) or database string URI or sqlite3 DBAPI2 connection. Other DBAPI2 objects are not tested. Please consider using SQLAlchemy.\n",
      "  transactions = pd.read_sql_query(\"select * from transactions\",db)\n"
     ]
    }
   ],
   "source": [
    "transactions = pd.read_sql_query(\"select * from transactions\",db)"
   ]
  },
  {
   "cell_type": "code",
   "execution_count": 25,
   "id": "8e3fc5ea",
   "metadata": {},
   "outputs": [
    {
     "data": {
      "text/plain": [
       "(150283, 7)"
      ]
     },
     "execution_count": 25,
     "metadata": {},
     "output_type": "execute_result"
    }
   ],
   "source": [
    "transactions.shape"
   ]
  },
  {
   "cell_type": "markdown",
   "id": "b645a8e7",
   "metadata": {},
   "source": [
    "# Writing excel files"
   ]
  },
  {
   "cell_type": "code",
   "execution_count": 45,
   "id": "eda504d6",
   "metadata": {},
   "outputs": [],
   "source": [
    "transactions.to_csv(\"transactions.csv\",index=False)\n",
    "markets.to_csv(\"markets.csv\",index=False)\n",
    "date.to_csv(\"date.csv\",index=False)\n",
    "products.to_csv(\"products.csv\",index=False)\n",
    "customers.to_csv(\"customers.csv\",index=False)"
   ]
  },
  {
   "cell_type": "markdown",
   "id": "44fd841b",
   "metadata": {},
   "source": [
    "# Cleaning excel files"
   ]
  },
  {
   "cell_type": "markdown",
   "id": "fdfd73f8",
   "metadata": {},
   "source": [
    "### 1) Transaction column"
   ]
  },
  {
   "cell_type": "code",
   "execution_count": 108,
   "id": "355194d4",
   "metadata": {},
   "outputs": [
    {
     "data": {
      "text/html": [
       "<div>\n",
       "<style scoped>\n",
       "    .dataframe tbody tr th:only-of-type {\n",
       "        vertical-align: middle;\n",
       "    }\n",
       "\n",
       "    .dataframe tbody tr th {\n",
       "        vertical-align: top;\n",
       "    }\n",
       "\n",
       "    .dataframe thead th {\n",
       "        text-align: right;\n",
       "    }\n",
       "</style>\n",
       "<table border=\"1\" class=\"dataframe\">\n",
       "  <thead>\n",
       "    <tr style=\"text-align: right;\">\n",
       "      <th></th>\n",
       "      <th>product_code</th>\n",
       "      <th>customer_code</th>\n",
       "      <th>market_code</th>\n",
       "      <th>order_date</th>\n",
       "      <th>sales_qty</th>\n",
       "      <th>sales_amount</th>\n",
       "      <th>currency</th>\n",
       "    </tr>\n",
       "  </thead>\n",
       "  <tbody>\n",
       "    <tr>\n",
       "      <th>0</th>\n",
       "      <td>Prod001</td>\n",
       "      <td>Cus001</td>\n",
       "      <td>Mark001</td>\n",
       "      <td>2017-10-10</td>\n",
       "      <td>100</td>\n",
       "      <td>41241.0</td>\n",
       "      <td>INR</td>\n",
       "    </tr>\n",
       "    <tr>\n",
       "      <th>1</th>\n",
       "      <td>Prod001</td>\n",
       "      <td>Cus002</td>\n",
       "      <td>Mark002</td>\n",
       "      <td>2018-05-08</td>\n",
       "      <td>3</td>\n",
       "      <td>-1.0</td>\n",
       "      <td>INR</td>\n",
       "    </tr>\n",
       "    <tr>\n",
       "      <th>2</th>\n",
       "      <td>Prod002</td>\n",
       "      <td>Cus003</td>\n",
       "      <td>Mark003</td>\n",
       "      <td>2018-04-06</td>\n",
       "      <td>1</td>\n",
       "      <td>875.0</td>\n",
       "      <td>INR</td>\n",
       "    </tr>\n",
       "  </tbody>\n",
       "</table>\n",
       "</div>"
      ],
      "text/plain": [
       "  product_code customer_code market_code  order_date  sales_qty  sales_amount  \\\n",
       "0      Prod001        Cus001     Mark001  2017-10-10        100       41241.0   \n",
       "1      Prod001        Cus002     Mark002  2018-05-08          3          -1.0   \n",
       "2      Prod002        Cus003     Mark003  2018-04-06          1         875.0   \n",
       "\n",
       "  currency  \n",
       "0      INR  \n",
       "1      INR  \n",
       "2      INR  "
      ]
     },
     "execution_count": 108,
     "metadata": {},
     "output_type": "execute_result"
    }
   ],
   "source": [
    "transactions.head(3)"
   ]
  },
  {
   "cell_type": "code",
   "execution_count": 109,
   "id": "d0a0c2da",
   "metadata": {},
   "outputs": [],
   "source": [
    "df = transactions.copy()"
   ]
  },
  {
   "cell_type": "code",
   "execution_count": 110,
   "id": "96fc6c9a",
   "metadata": {},
   "outputs": [
    {
     "data": {
      "text/html": [
       "<div>\n",
       "<style scoped>\n",
       "    .dataframe tbody tr th:only-of-type {\n",
       "        vertical-align: middle;\n",
       "    }\n",
       "\n",
       "    .dataframe tbody tr th {\n",
       "        vertical-align: top;\n",
       "    }\n",
       "\n",
       "    .dataframe thead th {\n",
       "        text-align: right;\n",
       "    }\n",
       "</style>\n",
       "<table border=\"1\" class=\"dataframe\">\n",
       "  <thead>\n",
       "    <tr style=\"text-align: right;\">\n",
       "      <th></th>\n",
       "      <th>product_code</th>\n",
       "      <th>customer_code</th>\n",
       "      <th>market_code</th>\n",
       "      <th>order_date</th>\n",
       "      <th>sales_qty</th>\n",
       "      <th>sales_amount</th>\n",
       "      <th>currency</th>\n",
       "    </tr>\n",
       "  </thead>\n",
       "  <tbody>\n",
       "    <tr>\n",
       "      <th>0</th>\n",
       "      <td>Prod001</td>\n",
       "      <td>Cus001</td>\n",
       "      <td>Mark001</td>\n",
       "      <td>2017-10-10</td>\n",
       "      <td>100</td>\n",
       "      <td>41241.0</td>\n",
       "      <td>INR</td>\n",
       "    </tr>\n",
       "    <tr>\n",
       "      <th>1</th>\n",
       "      <td>Prod001</td>\n",
       "      <td>Cus002</td>\n",
       "      <td>Mark002</td>\n",
       "      <td>2018-05-08</td>\n",
       "      <td>3</td>\n",
       "      <td>-1.0</td>\n",
       "      <td>INR</td>\n",
       "    </tr>\n",
       "  </tbody>\n",
       "</table>\n",
       "</div>"
      ],
      "text/plain": [
       "  product_code customer_code market_code  order_date  sales_qty  sales_amount  \\\n",
       "0      Prod001        Cus001     Mark001  2017-10-10        100       41241.0   \n",
       "1      Prod001        Cus002     Mark002  2018-05-08          3          -1.0   \n",
       "\n",
       "  currency  \n",
       "0      INR  \n",
       "1      INR  "
      ]
     },
     "execution_count": 110,
     "metadata": {},
     "output_type": "execute_result"
    }
   ],
   "source": [
    "df.head(2)"
   ]
  },
  {
   "cell_type": "code",
   "execution_count": 111,
   "id": "f4583af4",
   "metadata": {},
   "outputs": [
    {
     "data": {
      "text/plain": [
       "product_code     1611\n",
       "customer_code    1611\n",
       "market_code      1611\n",
       "order_date       1611\n",
       "sales_qty        1611\n",
       "sales_amount     1611\n",
       "currency         1611\n",
       "dtype: int64"
      ]
     },
     "execution_count": 111,
     "metadata": {},
     "output_type": "execute_result"
    }
   ],
   "source": [
    "df.loc[(df[\"sales_amount\"]==-1) | (df[\"sales_amount\"]==0) ,:].count()"
   ]
  },
  {
   "cell_type": "code",
   "execution_count": 127,
   "id": "2bf09615",
   "metadata": {},
   "outputs": [],
   "source": [
    "condition1 = (df[\"sales_amount\"]==0)\n",
    "condition2 = (df[\"sales_amount\"]==-1)\n",
    "\n",
    "index_to_delete = df[condition1 | condition2].index\n",
    "df = df.drop(index_to_delete)"
   ]
  },
  {
   "cell_type": "code",
   "execution_count": 122,
   "id": "e83a8082",
   "metadata": {},
   "outputs": [
    {
     "data": {
      "text/plain": [
       "array(['INR'], dtype=object)"
      ]
     },
     "execution_count": 122,
     "metadata": {},
     "output_type": "execute_result"
    }
   ],
   "source": [
    "df[\"currency\"].unique()"
   ]
  },
  {
   "cell_type": "code",
   "execution_count": 123,
   "id": "31fae5df",
   "metadata": {},
   "outputs": [],
   "source": [
    "df[\"currency\"] = df[\"currency\"].str.strip()"
   ]
  },
  {
   "cell_type": "code",
   "execution_count": 124,
   "id": "3c190e07",
   "metadata": {},
   "outputs": [
    {
     "data": {
      "text/html": [
       "<div>\n",
       "<style scoped>\n",
       "    .dataframe tbody tr th:only-of-type {\n",
       "        vertical-align: middle;\n",
       "    }\n",
       "\n",
       "    .dataframe tbody tr th {\n",
       "        vertical-align: top;\n",
       "    }\n",
       "\n",
       "    .dataframe thead th {\n",
       "        text-align: right;\n",
       "    }\n",
       "</style>\n",
       "<table border=\"1\" class=\"dataframe\">\n",
       "  <thead>\n",
       "    <tr style=\"text-align: right;\">\n",
       "      <th></th>\n",
       "      <th>product_code</th>\n",
       "      <th>customer_code</th>\n",
       "      <th>market_code</th>\n",
       "      <th>order_date</th>\n",
       "      <th>sales_qty</th>\n",
       "      <th>sales_amount</th>\n",
       "      <th>currency</th>\n",
       "    </tr>\n",
       "  </thead>\n",
       "  <tbody>\n",
       "  </tbody>\n",
       "</table>\n",
       "</div>"
      ],
      "text/plain": [
       "Empty DataFrame\n",
       "Columns: [product_code, customer_code, market_code, order_date, sales_qty, sales_amount, currency]\n",
       "Index: []"
      ]
     },
     "execution_count": 124,
     "metadata": {},
     "output_type": "execute_result"
    }
   ],
   "source": [
    "df.loc[df[\"currency\"]==\"USD\",:]"
   ]
  },
  {
   "cell_type": "markdown",
   "id": "07ef9e42",
   "metadata": {},
   "source": [
    "## Conditionally added new column"
   ]
  },
  {
   "cell_type": "code",
   "execution_count": 116,
   "id": "ad9345b3",
   "metadata": {},
   "outputs": [],
   "source": [
    "import numpy as np\n",
    "df[\"sales_amount\"] = np.where(df[\"currency\"]==\"USD\",(df[\"sales_amount\"]*75),df[\"sales_amount\"])"
   ]
  },
  {
   "cell_type": "code",
   "execution_count": 117,
   "id": "2130e32f",
   "metadata": {},
   "outputs": [],
   "source": [
    "df[\"currency\"] = np.where(df[\"currency\"]==\"USD\",\"INR\",\"INR\")"
   ]
  },
  {
   "cell_type": "code",
   "execution_count": 118,
   "id": "10998220",
   "metadata": {},
   "outputs": [
    {
     "data": {
      "text/html": [
       "<div>\n",
       "<style scoped>\n",
       "    .dataframe tbody tr th:only-of-type {\n",
       "        vertical-align: middle;\n",
       "    }\n",
       "\n",
       "    .dataframe tbody tr th {\n",
       "        vertical-align: top;\n",
       "    }\n",
       "\n",
       "    .dataframe thead th {\n",
       "        text-align: right;\n",
       "    }\n",
       "</style>\n",
       "<table border=\"1\" class=\"dataframe\">\n",
       "  <thead>\n",
       "    <tr style=\"text-align: right;\">\n",
       "      <th></th>\n",
       "      <th>product_code</th>\n",
       "      <th>customer_code</th>\n",
       "      <th>market_code</th>\n",
       "      <th>order_date</th>\n",
       "      <th>sales_qty</th>\n",
       "      <th>sales_amount</th>\n",
       "      <th>currency</th>\n",
       "    </tr>\n",
       "  </thead>\n",
       "  <tbody>\n",
       "    <tr>\n",
       "      <th>0</th>\n",
       "      <td>Prod001</td>\n",
       "      <td>Cus001</td>\n",
       "      <td>Mark001</td>\n",
       "      <td>2017-10-10</td>\n",
       "      <td>100</td>\n",
       "      <td>41241.0</td>\n",
       "      <td>INR</td>\n",
       "    </tr>\n",
       "    <tr>\n",
       "      <th>2</th>\n",
       "      <td>Prod002</td>\n",
       "      <td>Cus003</td>\n",
       "      <td>Mark003</td>\n",
       "      <td>2018-04-06</td>\n",
       "      <td>1</td>\n",
       "      <td>875.0</td>\n",
       "      <td>INR</td>\n",
       "    </tr>\n",
       "    <tr>\n",
       "      <th>3</th>\n",
       "      <td>Prod002</td>\n",
       "      <td>Cus003</td>\n",
       "      <td>Mark003</td>\n",
       "      <td>2018-04-11</td>\n",
       "      <td>1</td>\n",
       "      <td>583.0</td>\n",
       "      <td>INR</td>\n",
       "    </tr>\n",
       "    <tr>\n",
       "      <th>4</th>\n",
       "      <td>Prod002</td>\n",
       "      <td>Cus004</td>\n",
       "      <td>Mark003</td>\n",
       "      <td>2018-06-18</td>\n",
       "      <td>6</td>\n",
       "      <td>7176.0</td>\n",
       "      <td>INR</td>\n",
       "    </tr>\n",
       "    <tr>\n",
       "      <th>5</th>\n",
       "      <td>Prod003</td>\n",
       "      <td>Cus005</td>\n",
       "      <td>Mark004</td>\n",
       "      <td>2017-11-20</td>\n",
       "      <td>59</td>\n",
       "      <td>37500.0</td>\n",
       "      <td>INR</td>\n",
       "    </tr>\n",
       "    <tr>\n",
       "      <th>...</th>\n",
       "      <td>...</td>\n",
       "      <td>...</td>\n",
       "      <td>...</td>\n",
       "      <td>...</td>\n",
       "      <td>...</td>\n",
       "      <td>...</td>\n",
       "      <td>...</td>\n",
       "    </tr>\n",
       "    <tr>\n",
       "      <th>150278</th>\n",
       "      <td>Prod339</td>\n",
       "      <td>Cus005</td>\n",
       "      <td>Mark004</td>\n",
       "      <td>2019-04-18</td>\n",
       "      <td>1</td>\n",
       "      <td>394.0</td>\n",
       "      <td>INR</td>\n",
       "    </tr>\n",
       "    <tr>\n",
       "      <th>150279</th>\n",
       "      <td>Prod339</td>\n",
       "      <td>Cus020</td>\n",
       "      <td>Mark004</td>\n",
       "      <td>2019-04-23</td>\n",
       "      <td>1</td>\n",
       "      <td>667.0</td>\n",
       "      <td>INR</td>\n",
       "    </tr>\n",
       "    <tr>\n",
       "      <th>150280</th>\n",
       "      <td>Prod339</td>\n",
       "      <td>Cus007</td>\n",
       "      <td>Mark004</td>\n",
       "      <td>2019-04-23</td>\n",
       "      <td>1</td>\n",
       "      <td>625.0</td>\n",
       "      <td>INR</td>\n",
       "    </tr>\n",
       "    <tr>\n",
       "      <th>150281</th>\n",
       "      <td>Prod339</td>\n",
       "      <td>Cus006</td>\n",
       "      <td>Mark004</td>\n",
       "      <td>2019-04-24</td>\n",
       "      <td>7</td>\n",
       "      <td>8625.0</td>\n",
       "      <td>INR</td>\n",
       "    </tr>\n",
       "    <tr>\n",
       "      <th>150282</th>\n",
       "      <td>Prod339</td>\n",
       "      <td>Cus032</td>\n",
       "      <td>Mark009</td>\n",
       "      <td>2019-04-24</td>\n",
       "      <td>3</td>\n",
       "      <td>3792.0</td>\n",
       "      <td>INR</td>\n",
       "    </tr>\n",
       "  </tbody>\n",
       "</table>\n",
       "<p>150282 rows × 7 columns</p>\n",
       "</div>"
      ],
      "text/plain": [
       "       product_code customer_code market_code  order_date  sales_qty  \\\n",
       "0           Prod001        Cus001     Mark001  2017-10-10        100   \n",
       "2           Prod002        Cus003     Mark003  2018-04-06          1   \n",
       "3           Prod002        Cus003     Mark003  2018-04-11          1   \n",
       "4           Prod002        Cus004     Mark003  2018-06-18          6   \n",
       "5           Prod003        Cus005     Mark004  2017-11-20         59   \n",
       "...             ...           ...         ...         ...        ...   \n",
       "150278      Prod339        Cus005     Mark004  2019-04-18          1   \n",
       "150279      Prod339        Cus020     Mark004  2019-04-23          1   \n",
       "150280      Prod339        Cus007     Mark004  2019-04-23          1   \n",
       "150281      Prod339        Cus006     Mark004  2019-04-24          7   \n",
       "150282      Prod339        Cus032     Mark009  2019-04-24          3   \n",
       "\n",
       "        sales_amount currency  \n",
       "0            41241.0      INR  \n",
       "2              875.0      INR  \n",
       "3              583.0      INR  \n",
       "4             7176.0      INR  \n",
       "5            37500.0      INR  \n",
       "...              ...      ...  \n",
       "150278         394.0      INR  \n",
       "150279         667.0      INR  \n",
       "150280         625.0      INR  \n",
       "150281        8625.0      INR  \n",
       "150282        3792.0      INR  \n",
       "\n",
       "[150282 rows x 7 columns]"
      ]
     },
     "execution_count": 118,
     "metadata": {},
     "output_type": "execute_result"
    }
   ],
   "source": [
    "df"
   ]
  },
  {
   "cell_type": "code",
   "execution_count": 119,
   "id": "f07592aa",
   "metadata": {},
   "outputs": [],
   "source": [
    "df.to_csv(\"transactions.csv\",index=False)"
   ]
  },
  {
   "cell_type": "code",
   "execution_count": null,
   "id": "ceef4646",
   "metadata": {},
   "outputs": [],
   "source": []
  }
 ],
 "metadata": {
  "kernelspec": {
   "display_name": "Python 3 (ipykernel)",
   "language": "python",
   "name": "python3"
  },
  "language_info": {
   "codemirror_mode": {
    "name": "ipython",
    "version": 3
   },
   "file_extension": ".py",
   "mimetype": "text/x-python",
   "name": "python",
   "nbconvert_exporter": "python",
   "pygments_lexer": "ipython3",
   "version": "3.11.3"
  }
 },
 "nbformat": 4,
 "nbformat_minor": 5
}
